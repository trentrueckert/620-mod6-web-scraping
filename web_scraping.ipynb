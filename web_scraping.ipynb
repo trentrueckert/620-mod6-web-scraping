{
 "cells": [
  {
   "cell_type": "markdown",
   "metadata": {},
   "source": [
    "# Fetching Content from the Web\n",
    "\n",
    "## When you have no API... That's annoying!\n",
    "\n",
    "Sometimes we need to try to access data on a webpage that does not have a helpful API that bundles and returns our data in a usable manner.  When that happens, we are left with no choice but to resort to web scraping, that is downloading the actual webpage (or parts of the webpage) and manipulating the text or elements of the HTML to obtain the information we want.\n",
    "\n",
    "## Tools to install:\n",
    "\n",
    "Use either `conda` or `pip` to install the following packages (e.g. `pip install beautifulsoup4`) depending on your environment:\n",
    "\n",
    "* `beautifulsoup4`\n",
    "* `html5lib` (optional parser - can use the built-in 'html.parser' instead)\n",
    "\n",
    "We will deal with each of these tools in turn.  BS4 is a package that allows you to fully read and do horrible horrible things to the DOM of a webpage (it's an XML parser that builds a parse tree for you to play with).  Boilerpipe is a python wrapper to a popular java library that can streamline some of the process of extracting parts of a webpage.  Feedparser lets you get RSS and Atom feeds (remember those?)\n",
    "\n",
    "Many examples are motivated from the content at https://github.com/mikhailklassen/Mining-the-Social-Web-3rd-Edition/blob/master/notebooks/Chapter%206%20-%20Mining%20Web%20Pages.ipynb\n",
    "\n",
    "## Getting page text with `requests` and `BeautifulSoup4`\n",
    "\n",
    "A majority of the web does not follow a specific standard (RSS/ATOM Feeds, etc), or the data we want is in a particularly odd format.  For this we need more flexible tools to allow us to obtain a full web page and extract meaning from it.  For this we will use the `requests` module and `beautifulsoup` to pull our information."
   ]
  },
  {
   "cell_type": "code",
   "execution_count": 5,
   "metadata": {},
   "outputs": [
    {
     "name": "stdout",
     "output_type": "stream",
     "text": [
      "Active code page: 1252\n",
      "Package            Version\n",
      "------------------ -----------\n",
      "annotated-types    0.7.0\n",
      "asttokens          2.4.1\n",
      "beautifulsoup4     4.12.3\n",
      "blis               1.0.1\n",
      "catalogue          2.0.10\n",
      "certifi            2024.8.30\n",
      "charset-normalizer 3.4.0\n",
      "click              8.1.7\n",
      "cloudpathlib       0.20.0\n",
      "colorama           0.4.6\n",
      "comm               0.2.2\n",
      "confection         0.1.5\n",
      "contourpy          1.3.1\n",
      "cycler             0.12.1\n",
      "cymem              2.0.10\n",
      "debugpy            1.8.9\n",
      "decorator          5.1.1\n",
      "en_core_web_sm     3.8.0\n",
      "executing          2.1.0\n",
      "fonttools          4.55.0\n",
      "html5lib           1.1\n",
      "idna               3.10\n",
      "ipykernel          6.29.5\n",
      "ipython            8.29.0\n",
      "jedi               0.19.2\n",
      "Jinja2             3.1.4\n",
      "jupyter_client     8.6.3\n",
      "jupyter_core       5.7.2\n",
      "kiwisolver         1.4.7\n",
      "langcodes          3.5.0\n",
      "language_data      1.3.0\n",
      "marisa-trie        1.2.1\n",
      "markdown-it-py     3.0.0\n",
      "MarkupSafe         3.0.2\n",
      "matplotlib         3.9.2\n",
      "matplotlib-inline  0.1.7\n",
      "mdurl              0.1.2\n",
      "murmurhash         1.0.11\n",
      "nest-asyncio       1.6.0\n",
      "numpy              2.0.2\n",
      "packaging          24.2\n",
      "parso              0.8.4\n",
      "pillow             11.0.0\n",
      "pip                24.3.1\n",
      "platformdirs       4.3.6\n",
      "preshed            3.0.9\n",
      "prompt_toolkit     3.0.48\n",
      "psutil             6.1.0\n",
      "pure_eval          0.2.3\n",
      "pydantic           2.10.1\n",
      "pydantic_core      2.27.1\n",
      "Pygments           2.18.0\n",
      "pyparsing          3.2.0\n",
      "python-dateutil    2.9.0.post0\n",
      "pywin32            308\n",
      "pyzmq              26.2.0\n",
      "requests           2.32.3\n",
      "rich               13.9.4\n",
      "setuptools         75.6.0\n",
      "shellingham        1.5.4\n",
      "six                1.16.0\n",
      "smart-open         7.0.5\n",
      "soupsieve          2.6\n",
      "spacy              3.8.2\n",
      "spacy-legacy       3.0.12\n",
      "spacy-loggers      1.0.5\n",
      "srsly              2.4.8\n",
      "stack-data         0.6.3\n",
      "thinc              8.3.2\n",
      "tornado            6.4.2\n",
      "tqdm               4.67.1\n",
      "traitlets          5.14.3\n",
      "typer              0.13.1\n",
      "typing_extensions  4.12.2\n",
      "urllib3            2.2.3\n",
      "wasabi             1.1.3\n",
      "wcwidth            0.2.13\n",
      "weasel             0.4.1\n",
      "webencodings       0.5.1\n",
      "wheel              0.45.1\n",
      "wrapt              1.17.0\n",
      "All prereqs installed.\n",
      "Trent Rueckert\n"
     ]
    }
   ],
   "source": [
    "# Create and activate a Python virtual environment. \n",
    "# Before starting the project, try all these imports FIRST\n",
    "# Address any errors you get running this code cell \n",
    "# by installing the necessary packages into your active Python environment.\n",
    "# Try to resolve issues using your materials and the web.\n",
    "# If that doesn't work, ask for help in the discussion forums.\n",
    "# You can't complete the exercises until you import these - start early! \n",
    "# We also import pickle and Counter (included in the Python Standard Library).\n",
    "\n",
    "from collections import Counter\n",
    "import pickle\n",
    "import requests\n",
    "import spacy\n",
    "from bs4 import BeautifulSoup\n",
    "import matplotlib.pyplot as plt\n",
    "\n",
    "!pip list\n",
    "\n",
    "print('All prereqs installed.')\n",
    "print('Trent Rueckert')"
   ]
  },
  {
   "cell_type": "code",
   "execution_count": 1,
   "metadata": {},
   "outputs": [
    {
     "name": "stdout",
     "output_type": "stream",
     "text": [
      "200\n",
      "text/html; charset=UTF-8\n"
     ]
    }
   ],
   "source": [
    "import requests\n",
    "\n",
    "response = requests.get('https://en.wikipedia.org/wiki/Data_mining')\n",
    "\n",
    "print(response.status_code)\n",
    "print(response.headers['content-type'])\n",
    "# Uncomment next line to print the full HTML text;  it's long so when done, recomment\n",
    "# print(response.text)\n"
   ]
  },
  {
   "cell_type": "markdown",
   "metadata": {},
   "source": [
    "Hooray... raw HTML.  This will clearly be a good day.  Let's... find a way to **not** deal with raw html encoded text:"
   ]
  },
  {
   "cell_type": "code",
   "execution_count": 2,
   "metadata": {},
   "outputs": [],
   "source": [
    "from bs4 import BeautifulSoup\n",
    "\n",
    "# parser = 'html5lib'\n",
    "parser = 'html.parser'\n",
    "\n",
    "soup = BeautifulSoup(response.text, parser)\n",
    "# Uncomment next lines to explore full page contents; it's long so when done, recomment\n",
    "# print(soup)\n",
    "# print(soup.prettify())\n"
   ]
  },
  {
   "cell_type": "markdown",
   "metadata": {},
   "source": [
    "From our soup we can extract information by finding tags, searching for ids, and in general treating the parse tree of the HTML as a parse tree.  `BeautifulSoup4` allows us to search for elements of our text"
   ]
  },
  {
   "cell_type": "code",
   "execution_count": 3,
   "metadata": {},
   "outputs": [
    {
     "name": "stdout",
     "output_type": "stream",
     "text": [
      "h1 header: <h1 class=\"firstHeading mw-first-heading\" id=\"firstHeading\"><span class=\"mw-page-title-main\">Data mining</span></h1>\n",
      "h1 text: Data mining\n"
     ]
    }
   ],
   "source": [
    "for header in soup.findAll('h1'):\n",
    "    print('h1 header:', header)\n",
    "    print('h1 text:', header.text)"
   ]
  },
  {
   "cell_type": "markdown",
   "metadata": {},
   "source": [
    "## Getting some workable material\n",
    "\n",
    "Let's start with an article and find learn some information about it.  Our first step should be to obtain our web page."
   ]
  },
  {
   "cell_type": "code",
   "execution_count": 4,
   "metadata": {},
   "outputs": [],
   "source": [
    "article_page = requests.get('http://web.archive.org/web/20210415020310/https://hackaday.com/2021/04/02/python-will-soon-support-switch-statements/')\n",
    "article_html = article_page.text\n",
    "\n",
    "# pickle works similar to json, but stores information in a binary format\n",
    "# json files are readable by humans, pickle files, not so much\n",
    "\n",
    "# BeautifulSoup objects don't pickle well, so it's appropriate and polite to web developers to cache the text of the web page, or just dump it to an html file you can read in later as a regular file\n",
    "import pickle\n",
    "with open('python-match.pkl', 'wb') as f:\n",
    "    pickle.dump(article_page.text, f)"
   ]
  },
  {
   "cell_type": "code",
   "execution_count": 5,
   "metadata": {},
   "outputs": [],
   "source": [
    "with open('python-match.pkl', 'rb') as f:\n",
    "    article_html = pickle.load(f)"
   ]
  },
  {
   "cell_type": "markdown",
   "metadata": {},
   "source": [
    "Our next step is to make our HTML page searchable/usable.  Parsing HTML by hand would be a waste of time, so let's ask BeautifulSoup to make us some delicious soup.\n",
    "\n",
    "Use either parser - how can you find the pros and cons of 'html5lib' or the built-in 'html.parser'? \n",
    "\n",
    "Where did we set the value of the parser variable used below?"
   ]
  },
  {
   "cell_type": "code",
   "execution_count": 6,
   "metadata": {},
   "outputs": [],
   "source": [
    "soup = BeautifulSoup(article_html, parser)"
   ]
  },
  {
   "cell_type": "markdown",
   "metadata": {},
   "source": [
    "At this point, we want to extract the article text from the page.  Luckily, we have the ability to investigate and inspect individual elements.  By using the inspector we can find that the article is contained in an `article` element; how convenient!  This might not be the case for every page.  One problem with web scraping is that you need to specialize your code for whatever "
   ]
  },
  {
   "cell_type": "code",
   "execution_count": 20,
   "metadata": {},
   "outputs": [],
   "source": [
    "article_element = soup.find('article')\n",
    "# Uncomment to see the entire article element html; again, it's long\n",
    "# print(article_element)"
   ]
  },
  {
   "cell_type": "markdown",
   "metadata": {},
   "source": [
    "If you print the article_content, you see that we get the html contained in the article element; while this is the content we want there's a lot of HTML cruft in there that won't help us (we are interested in text, probably).  Luckily for us, BeautifulSoup allows us to essentially display the text (roughly) as a web browser would display it using the `get_text()` method."
   ]
  },
  {
   "cell_type": "code",
   "execution_count": 21,
   "metadata": {},
   "outputs": [
    {
     "name": "stdout",
     "output_type": "stream",
     "text": [
      "\n",
      "\n",
      "Python Will Soon Support Switch Statements\n",
      "\n",
      "\n",
      "                112 Comments            \n",
      "\n",
      "by:\n",
      "Adam Zeloof\n",
      "\n",
      "\n",
      "\n",
      "April 2, 2021\n",
      "\n",
      "\n",
      "\n",
      "\n",
      "\n",
      "\n",
      "\n",
      "\n",
      "Rejoice! Gone are the long chains of if…else statements, because switch statements will soon be here — sort of. What the Python gods are actually giving us are match statements. match statements are awfully similar to switch statements, but have a few really cool and unique features, which I’ll attempt to illustrate below.\n",
      "\n",
      "Flip The Switch\n",
      "A switch statement is often used in place of an if…else ladder. Here’s a quick example of the same logic in C, first executed with an if statement, and then with a switch statement:\n",
      "\n",
      "Essentially, a switch statement takes a variable and tests it for equality against a number of different cases. If none of the cases match, then the default case is invoked. Notice in the example that each case is terminated by a break. This protects against more than one case matching (or allows for cascading), as the cases are checked in the order in which they are listed. Once a case is completed, break is called and the switch statement exits.\n",
      "A Match Made In Heaven\n",
      "\n",
      "You can think of match statements as “Switch 2.0”. Before we get into the nitty-gritty here, if all you want is switch in Python then you’re in luck, because they can be used in the same way. Here’s a similar example to what we looked at earlier, this time using match in Python.\n",
      "There are a few differences to note right off the bat. First, there are no break statements. The developers were concerned about confusion if a break statement were called inside a match statement inside a loop — what breaks then, the loop or the match? Here, the first case that is satisfied is executed, and the statement returns. You’ll also notice that rather than default, we have case _, which behaves in the same way.\n",
      "The Power of Pattern Matching\n",
      "So, we’ve got a switch statement with slightly different syntax, right? Not quite. The name match was used for a reason — what’s actually going on here is something called Pattern Matching. To illustrate what that is, let’s look at a more exciting example, right out of the feature proposal to add the keyword in question to Python:\n",
      "\n",
      "Wow! We just took an object, checked its type, checked it’s shape, and instantiated a new object without any indexing, or even a len() call. It also works on any type, unlike the classic switch which only works on integral values. In case this wasn’t cool enough for you, patterns can be combined. Again, from the feature proposal:\n",
      "\n",
      "Okay, okay — one more example. This is where the match statement gets really powerful. Patterns themselves can include comparisons, known as guards. This lets you filter values within each case statement:\n",
      "\n",
      "Sold! When Can I Try?\n",
      "We’ll get our hands on this magical new command in Python 3.10, slated for a full release on October 4th, 2021. For the adventurous, an alpha version (Python 3.10.0a6) is available for download today. It might be worth spending some time getting acquainted with the pattern matching, like understanding the difference between matching literal values and matching variables.\n",
      "So why doesn’t every language have match statements? They’re clearly better than switch statements!\n",
      "That’s what I said at least, and my girlfriend Sara was quick to raise her eyebrows and explain that there’s a huge performance overhead involved. The switch statement in C is relatively simple. It compares integers to one another, executing n constant-time operations. All of the power and convenience that comes with the match statement means a lot is going on in the background, which in turn slows down the code execution — an incredibly Pythonic tradeoff to make.\n",
      "I find an efficiency hit a small price to pay for such expanded functionality, but as a Mechanical Engineer my favorite languages are Matlab and Python so you probably should take my opinion here with a grain of salt.\n",
      "\n",
      "\n",
      "\n",
      "\n",
      " \n",
      "\n",
      "\n",
      "\n",
      "\n",
      "\n",
      "\n",
      "\n",
      "\n",
      "\n",
      "\n",
      "\n",
      "\n",
      "\n",
      "\n",
      "\n",
      "\n",
      "\n",
      "\n",
      "\n",
      "Posted in Featured, News, Slider, Software DevelopmentTagged match, python, switch \n",
      "\n"
     ]
    }
   ],
   "source": [
    "print(article_element.get_text())"
   ]
  },
  {
   "cell_type": "markdown",
   "metadata": {},
   "source": [
    "We have raw article text! Let the NLP begin! (also introducing/reintroducing [f strings](https://docs.python.org/3/tutorial/inputoutput.html#tut-f-strings)!"
   ]
  },
  {
   "cell_type": "code",
   "execution_count": 9,
   "metadata": {},
   "outputs": [
    {
     "name": "stdout",
     "output_type": "stream",
     "text": [
      "Polarity: 0.21125273903051683\n"
     ]
    }
   ],
   "source": [
    "import spacy\n",
    "from spacytextblob.spacytextblob import SpacyTextBlob\n",
    "\n",
    "nlp = spacy.load('en_core_web_sm')\n",
    "# why not, let's add some fun sentiment analysis, because we can\n",
    "nlp.add_pipe('spacytextblob')\n",
    "doc = nlp(article_element.get_text())\n",
    "print(f'Polarity: {doc._.polarity}')"
   ]
  },
  {
   "cell_type": "markdown",
   "metadata": {},
   "source": [
    "So does the article have an overall positive overtone? What polarity scores indicate positive tone? What scores indicate negative? Is -0.5 more negative than -0.2?\n",
    "\n",
    "I'm actually pretty excited about match statements in Python, but I'm a nerd, so... you know.  What else can we do?\n",
    "\n",
    "## NLP: Finding important terms and introducing \"stopwords\"\n",
    "\n",
    "Our `doc` object contains information about every single lexeme in the text we had it parse.  Let's look at what these are:"
   ]
  },
  {
   "cell_type": "code",
   "execution_count": 10,
   "metadata": {},
   "outputs": [
    {
     "name": "stdout",
     "output_type": "stream",
     "text": [
      "--- \n",
      "\n",
      "\n",
      "--- Python\n",
      "--- Will\n",
      "--- Soon\n",
      "--- Support\n",
      "--- Switch\n",
      "--- Statements\n",
      "--- \n",
      "\n",
      "\n",
      "                \n",
      "--- 112\n",
      "--- Comments\n"
     ]
    }
   ],
   "source": [
    "for lexeme in doc[:10]: # just the first 10 for now\n",
    "    print('---',lexeme)"
   ]
  },
  {
   "cell_type": "markdown",
   "metadata": {},
   "source": [
    "We can see that the large blocks of whitespace are considered tokens; that's not something we particularly care about.  Let's start by going through our document and only getting tokens that aren't whitespace (I'll do this one as a loop constructing the list).  Notice; each lexeme in the document has a flag for whether it is whitespace or not!"
   ]
  },
  {
   "cell_type": "code",
   "execution_count": 11,
   "metadata": {},
   "outputs": [
    {
     "name": "stdout",
     "output_type": "stream",
     "text": [
      "[Python, Will, Soon, Support, Switch, Statements, 112, Comments, by, :, Adam, Zeloof, April, 2, ,, 2021, Rejoice, !, Gone, are, the, long, chains, of, if, …, else, statements, ,, because, switch, statements, will, soon, be, here, —, sort, of, ., What, the, Python, gods, are, actually, giving, us, are, match, statements, ., match, statements, are, awfully, similar, to, switch, statements, ,, but, have, a, few, really, cool, and, unique, features, ,, which, I, ’ll, attempt, to, illustrate, below, ., Flip, The, Switch, A, switch, statement, is, often, used, in, place, of, an, if, …, else, ladder, ., Here, ’s, a, quick, example, of, the, same, logic, in, C, ,, first, executed, with, an, if, statement, ,, and, then, with, a, switch, statement, :, Essentially, ,, a, switch, statement, takes, a, variable, and, tests, it, for, equality, against, a, number, of, different, cases, ., If, none, of, the, cases, match, ,, then, the, default, case, is, invoked, ., Notice, in, the, example, that, each, case, is, terminated, by, a, break, ., This, protects, against, more, than, one, case, matching, (, or, allows, for, cascading, ), ,, as, the, cases, are, checked, in, the, order, in, which, they, are, listed, ., Once, a, case, is, completed, ,, break, is, called, and, the, switch, statement, exits, ., A, Match, Made, In, Heaven, You, can, think, of, match, statements, as, “, Switch, 2.0, ”, ., Before, we, get, into, the, nitty, -, gritty, here, ,, if, all, you, want, is, switch, in, Python, then, you, ’re, in, luck, ,, because, they, can, be, used, in, the, same, way, ., Here, ’s, a, similar, example, to, what, we, looked, at, earlier, ,, this, time, using, match, in, Python, ., There, are, a, few, differences, to, note, right, off, the, bat, ., First, ,, there, are, no, break, statements, ., The, developers, were, concerned, about, confusion, if, a, break, statement, were, called, inside, a, match, statement, inside, a, loop, —, what, breaks, then, ,, the, loop, or, the, match, ?, Here, ,, the, first, case, that, is, satisfied, is, executed, ,, and, the, statement, returns, ., You, ’ll, also, notice, that, rather, than, default, ,, we, have, case, _, ,, which, behaves, in, the, same, way, ., The, Power, of, Pattern, Matching, So, ,, we, ’ve, got, a, switch, statement, with, slightly, different, syntax, ,, right, ?, Not, quite, ., The, name, match, was, used, for, a, reason, —, what, ’s, actually, going, on, here, is, something, called, Pattern, Matching, ., To, illustrate, what, that, is, ,, let, ’s, look, at, a, more, exciting, example, ,, right, out, of, the, feature, proposal, to, add, the, keyword, in, question, to, Python, :, Wow, !, We, just, took, an, object, ,, checked, its, type, ,, checked, it, ’s, shape, ,, and, instantiated, a, new, object, without, any, indexing, ,, or, even, a, len, (, ), call, ., It, also, works, on, any, type, ,, unlike, the, classic, switch, which, only, works, on, integral, values, ., In, case, this, was, n’t, cool, enough, for, you, ,, patterns, can, be, combined, ., Again, ,, from, the, feature, proposal, :, Okay, ,, okay, —, one, more, example, ., This, is, where, the, match, statement, gets, really, powerful, ., Patterns, themselves, can, include, comparisons, ,, known, as, guards, ., This, lets, you, filter, values, within, each, case, statement, :, Sold, !, When, Can, I, Try, ?, We, ’ll, get, our, hands, on, this, magical, new, command, in, Python, 3.10, ,, slated, for, a, full, release, on, October, 4th, ,, 2021, ., For, the, adventurous, ,, an, alpha, version, (, Python, 3.10.0a6, ), is, available, for, download, today, ., It, might, be, worth, spending, some, time, getting, acquainted, with, the, pattern, matching, ,, like, understanding, the, difference, between, matching, literal, values, and, matching, variables, ., So, why, does, n’t, every, language, have, match, statements, ?, They, ’re, clearly, better, than, switch, statements, !, That, ’s, what, I, said, at, least, ,, and, my, girlfriend, Sara, was, quick, to, raise, her, eyebrows, and, explain, that, there, ’s, a, huge, performance, overhead, involved, ., The, switch, statement, in, C, is, relatively, simple, ., It, compares, integers, to, one, another, ,, executing, n, constant, -, time, operations, ., All, of, the, power, and, convenience, that, comes, with, the, match, statement, means, a, lot, is, going, on, in, the, background, ,, which, in, turn, slows, down, the, code, execution, —, an, incredibly, Pythonic, tradeoff, to, make, ., I, find, an, efficiency, hit, a, small, price, to, pay, for, such, expanded, functionality, ,, but, as, a, Mechanical, Engineer, my, favorite, languages, are, Matlab, and, Python, so, you, probably, should, take, my, opinion, here, with, a, grain, of, salt, ., Posted, in, Featured, ,, News, ,, Slider, ,, Software, DevelopmentTagged, match, ,, python, ,, switch]\n"
     ]
    }
   ],
   "source": [
    "non_ws_tokens = []\n",
    "for token in doc:\n",
    "    if not token.is_space:\n",
    "        non_ws_tokens.append(token)\n",
    "print(non_ws_tokens)"
   ]
  },
  {
   "cell_type": "markdown",
   "metadata": {},
   "source": [
    "It appears that punctuation is also its own token, so let's get rid of it.  At this point it starts to make sense to define a function to determine if we care about a particular token.  Let's build our list with a comprehension this time."
   ]
  },
  {
   "cell_type": "code",
   "execution_count": 12,
   "metadata": {},
   "outputs": [
    {
     "name": "stdout",
     "output_type": "stream",
     "text": [
      "[Python, Will, Soon, Support, Switch, Statements, 112, Comments, by, Adam, Zeloof, April, 2, 2021, Rejoice, Gone, are, the, long, chains, of, if, else, statements, because, switch, statements, will, soon, be, here, sort, of, What, the, Python, gods, are, actually, giving, us, are, match, statements, match, statements, are, awfully, similar, to, switch, statements, but, have, a, few, really, cool, and, unique, features, which, I, ’ll, attempt, to, illustrate, below, Flip, The, Switch, A, switch, statement, is, often, used, in, place, of, an, if, else, ladder, Here, ’s, a, quick, example, of, the, same, logic, in, C, first, executed, with, an, if, statement, and, then, with, a, switch, statement, Essentially, a, switch, statement, takes, a, variable, and, tests, it, for, equality, against, a, number, of, different, cases, If, none, of, the, cases, match, then, the, default, case, is, invoked, Notice, in, the, example, that, each, case, is, terminated, by, a, break, This, protects, against, more, than, one, case, matching, or, allows, for, cascading, as, the, cases, are, checked, in, the, order, in, which, they, are, listed, Once, a, case, is, completed, break, is, called, and, the, switch, statement, exits, A, Match, Made, In, Heaven, You, can, think, of, match, statements, as, Switch, 2.0, Before, we, get, into, the, nitty, gritty, here, if, all, you, want, is, switch, in, Python, then, you, ’re, in, luck, because, they, can, be, used, in, the, same, way, Here, ’s, a, similar, example, to, what, we, looked, at, earlier, this, time, using, match, in, Python, There, are, a, few, differences, to, note, right, off, the, bat, First, there, are, no, break, statements, The, developers, were, concerned, about, confusion, if, a, break, statement, were, called, inside, a, match, statement, inside, a, loop, what, breaks, then, the, loop, or, the, match, Here, the, first, case, that, is, satisfied, is, executed, and, the, statement, returns, You, ’ll, also, notice, that, rather, than, default, we, have, case, which, behaves, in, the, same, way, The, Power, of, Pattern, Matching, So, we, ’ve, got, a, switch, statement, with, slightly, different, syntax, right, Not, quite, The, name, match, was, used, for, a, reason, what, ’s, actually, going, on, here, is, something, called, Pattern, Matching, To, illustrate, what, that, is, let, ’s, look, at, a, more, exciting, example, right, out, of, the, feature, proposal, to, add, the, keyword, in, question, to, Python, Wow, We, just, took, an, object, checked, its, type, checked, it, ’s, shape, and, instantiated, a, new, object, without, any, indexing, or, even, a, len, call, It, also, works, on, any, type, unlike, the, classic, switch, which, only, works, on, integral, values, In, case, this, was, n’t, cool, enough, for, you, patterns, can, be, combined, Again, from, the, feature, proposal, Okay, okay, one, more, example, This, is, where, the, match, statement, gets, really, powerful, Patterns, themselves, can, include, comparisons, known, as, guards, This, lets, you, filter, values, within, each, case, statement, Sold, When, Can, I, Try, We, ’ll, get, our, hands, on, this, magical, new, command, in, Python, 3.10, slated, for, a, full, release, on, October, 4th, 2021, For, the, adventurous, an, alpha, version, Python, 3.10.0a6, is, available, for, download, today, It, might, be, worth, spending, some, time, getting, acquainted, with, the, pattern, matching, like, understanding, the, difference, between, matching, literal, values, and, matching, variables, So, why, does, n’t, every, language, have, match, statements, They, ’re, clearly, better, than, switch, statements, That, ’s, what, I, said, at, least, and, my, girlfriend, Sara, was, quick, to, raise, her, eyebrows, and, explain, that, there, ’s, a, huge, performance, overhead, involved, The, switch, statement, in, C, is, relatively, simple, It, compares, integers, to, one, another, executing, n, constant, time, operations, All, of, the, power, and, convenience, that, comes, with, the, match, statement, means, a, lot, is, going, on, in, the, background, which, in, turn, slows, down, the, code, execution, an, incredibly, Pythonic, tradeoff, to, make, I, find, an, efficiency, hit, a, small, price, to, pay, for, such, expanded, functionality, but, as, a, Mechanical, Engineer, my, favorite, languages, are, Matlab, and, Python, so, you, probably, should, take, my, opinion, here, with, a, grain, of, salt, Posted, in, Featured, News, Slider, Software, DevelopmentTagged, match, python, switch]\n"
     ]
    }
   ],
   "source": [
    "def we_care_about(token):\n",
    "    return not (token.is_space or token.is_punct)\n",
    "\n",
    "interesting_tokens = [token for token in doc if we_care_about(token)]\n",
    "print(interesting_tokens)"
   ]
  },
  {
   "cell_type": "markdown",
   "metadata": {},
   "source": [
    "Let's determine the most frequent terms; that's an interesting way to determine the most important parts of a body of text.  Note the use of the Counter collection data structure; it's essentially a superpowered dictionary.  Note that because tokens have context, they won't be the same objects (everything will have a frequency of 1) so we turn all of them into strings using the `map` function."
   ]
  },
  {
   "cell_type": "code",
   "execution_count": 13,
   "metadata": {},
   "outputs": [
    {
     "name": "stdout",
     "output_type": "stream",
     "text": [
      "[('the', 29), ('a', 24), ('in', 16), ('is', 14), ('statement', 13), ('switch', 12), ('match', 12), ('of', 11), ('and', 11), ('to', 10)]\n"
     ]
    }
   ],
   "source": [
    "from collections import Counter\n",
    "word_freq = Counter(map(str,interesting_tokens))\n",
    "print(word_freq.most_common(10))"
   ]
  },
  {
   "cell_type": "markdown",
   "metadata": {},
   "source": [
    "Hrm; most of the top 10 most common words are not particularly interesting.  The words \"the\", \"a\", etc. do little to add to the meaning of a sentence but they do help with human comprehension.  We call such words \"stopwords\".  Let's modify our code so we exclude stopwords in our count."
   ]
  },
  {
   "cell_type": "code",
   "execution_count": 14,
   "metadata": {},
   "outputs": [
    {
     "name": "stdout",
     "output_type": "stream",
     "text": [
      "[('statement', 13), ('switch', 12), ('match', 12), ('statements', 9), ('Python', 8), ('case', 8), ('example', 5), ('break', 4), ('matching', 4), ('Switch', 3)]\n"
     ]
    }
   ],
   "source": [
    "def we_care_about(token):\n",
    "    return not (token.is_space or token.is_punct or token.is_stop)\n",
    "\n",
    "interesting_tokens = [token for token in doc if we_care_about(token)]\n",
    "word_freq = Counter(map(str,interesting_tokens))\n",
    "print(word_freq.most_common(10))"
   ]
  },
  {
   "cell_type": "markdown",
   "metadata": {},
   "source": [
    "Now, we suddenly see that the most common terms in an article about Python supporting switch statements now contains the terms \"statement\", \"statements\", \"Python\", \"Switch\", and \"match\".  You might notice that there are a few issues with this.\n",
    "\n",
    "* \"Switch\" and \"switch\" are both included; we could fix this by converting every string to lower\n",
    "* \"statement\" and \"statements\", as well as \"match\" and \"matching\" are counted as different terms, even though they have the same base.\n",
    "\n",
    "The second problem is harder to solve, or it would be if we weren't using such a powerful library. As you learned in your initial exploration of spaCy, part of the pipeline is Lemmatization.  This is the process of finding the base form of each word.  Let's see what happens when we use the base form of each word instead of the token itself:"
   ]
  },
  {
   "cell_type": "code",
   "execution_count": 15,
   "metadata": {},
   "outputs": [
    {
     "name": "stdout",
     "output_type": "stream",
     "text": [
      "[('statement', 22), ('match', 14), ('switch', 13), ('case', 11), ('Python', 8), ('example', 5), ('break', 5), ('go', 3), ('feature', 3), ('execute', 3)]\n"
     ]
    }
   ],
   "source": [
    "interesting_lemmas = [token.lemma_ for token in doc if we_care_about(token)]\n",
    "lemma_freq = Counter(interesting_lemmas)\n",
    "print(lemma_freq.most_common(10))"
   ]
  },
  {
   "cell_type": "markdown",
   "metadata": {},
   "source": [
    "We still run into case sensitivity, but we can fix that by converting the string to lower case:"
   ]
  },
  {
   "cell_type": "code",
   "execution_count": 16,
   "metadata": {},
   "outputs": [
    {
     "name": "stdout",
     "output_type": "stream",
     "text": [
      "[('statement', 22), ('switch', 15), ('match', 14), ('case', 11), ('python', 9), ('example', 5), ('break', 5), ('matching', 5), ('pattern', 5), ('go', 3)]\n"
     ]
    }
   ],
   "source": [
    "interesting_lemmas = [token.lemma_.lower() for token in doc if we_care_about(token)]\n",
    "lemma_freq = Counter(interesting_lemmas)\n",
    "print(lemma_freq.most_common(10))"
   ]
  },
  {
   "cell_type": "markdown",
   "metadata": {},
   "source": [
    "Cool!  Let's store the 5 most common words in a set and try some experiments"
   ]
  },
  {
   "cell_type": "code",
   "execution_count": 17,
   "metadata": {},
   "outputs": [
    {
     "name": "stdout",
     "output_type": "stream",
     "text": [
      "{'switch', 'python', 'statement', 'case', 'match'}\n"
     ]
    }
   ],
   "source": [
    "cool_words = set()\n",
    "for lemma, freq in lemma_freq.most_common(5):\n",
    "    cool_words.add(lemma)\n",
    "print(cool_words)"
   ]
  },
  {
   "cell_type": "markdown",
   "metadata": {},
   "source": [
    "As an experiment, let's see how many words in each sentence are important (or \"cool\" as I've named the set)"
   ]
  },
  {
   "cell_type": "code",
   "execution_count": 18,
   "metadata": {},
   "outputs": [
    {
     "name": "stdout",
     "output_type": "stream",
     "text": [
      "2 : Python Will Soon Support Switch Statements        112 Comments      by:Adam ZeloofApril 2, 2021Rejoice!\n",
      "3 : Gone are the long chains of if…else statements, because switch statements will soon be here — sort of.\n",
      "3 : What the Python gods are actually giving us are match statements.\n",
      "4 : match statements are awfully similar to switch statements, but have a few really cool and unique features, which I’ll attempt to illustrate below.\n",
      "3 : Flip The SwitchA switch statement is often used in place of an if…else ladder.\n",
      "6 : Here’s a quick example of the same logic in C, first executed with an if statement, and then with a switch statement:Essentially, a switch statement takes a variable and tests it for equality against a number of different cases.\n",
      "3 : If none of the cases match, then the default case is invoked.\n",
      "1 : Notice in the example that each case is terminated by a break.\n",
      "2 : This protects against more than one case matching (or allows for cascading), as the cases are checked in the order in which they are listed.\n",
      "3 : Once a case is completed, break is called and the switch statement exits.\n",
      "4 : A Match Made In HeavenYou can think of match statements as “Switch 2.0”.\n",
      "2 : Before we get into the nitty-gritty here, if all you want is switch in Python then you’re in luck, because they can be used in the same way.\n",
      "2 : Here’s a similar example to what we looked at earlier, this time using match in Python.There are a few differences to note right off the bat.\n",
      "1 : First, there are no break statements.\n",
      "4 : The developers were concerned about confusion if a break statement were called inside a match statement inside a loop — what breaks then, the loop or the match?\n",
      "2 : Here, the first case that is satisfied is executed, and the statement returns.\n",
      "1 : You’ll also notice that rather than default, we have case _, which behaves in the same way.\n",
      "2 : The Power of Pattern MatchingSo, we’ve got a switch statement with slightly different syntax, right?\n",
      "0 : Not quite.\n",
      "1 : The name match was used for a reason — what’s actually going on here is something called Pattern Matching.\n",
      "1 : To illustrate what that is, let’s look at a more exciting example, right out of the feature proposal to add the keyword in question to Python:Wow!\n",
      "0 : We just took an object, checked its type, checked it’s shape, and instantiated a new object without any indexing, or even a len() call.\n",
      "1 : It also works on any type, unlike the classic switch which only works on integral values.\n",
      "1 : In case this wasn’t cool enough for you, patterns can be combined.\n",
      "0 : Again, from the feature proposal:Okay, okay — one more example.\n",
      "2 : This is where the match statement gets really powerful.\n",
      "0 : Patterns themselves can include comparisons, known as guards.\n",
      "2 : This lets you filter values within each case statement:Sold!\n",
      "0 : When Can I Try?\n",
      "1 : We’ll get our hands on this magical new command in Python 3.10, slated for a full release on October 4th, 2021.\n",
      "1 : For the adventurous, an alpha version (Python 3.10.0a6) is available for download today.\n",
      "1 : It might be worth spending some time getting acquainted with the pattern matching, like understanding the difference between matching literal values and matching variables.\n",
      "2 : So why doesn’t every language have match statements?\n",
      "2 : They’re clearly better than switch statements!\n",
      "0 : That’s what I said at least, and my girlfriend Sara was quick to raise her eyebrows and explain that there’s a huge performance overhead involved.\n",
      "2 : The switch statement in C is relatively simple.\n",
      "0 : It compares integers to one another, executing n constant-time operations.\n",
      "2 : All of the power and convenience that comes with the match statement means a lot is going on in the background, which in turn slows down the code execution — an incredibly Pythonic tradeoff to make.\n",
      "1 : I find an efficiency hit a small price to pay for such expanded functionality, but as a Mechanical Engineer my favorite languages are Matlab and Python so you probably should take my opinion here with a grain of salt.\n",
      "3 :  Posted in Featured, News, Slider, Software DevelopmentTagged match, python, switch \n"
     ]
    }
   ],
   "source": [
    "sentences = list(doc.sents) # Thanks spaCy for just giving us our sentences\n",
    "for sentence in sentences:\n",
    "    count = 0\n",
    "    for token in sentence:\n",
    "        if token.lemma_.lower() in cool_words:\n",
    "            count += 1\n",
    "    # because there's a bunch of junk newlines, we'll replace those with nothing, as well as a little bit of whitespace\n",
    "    sent_str = str(sentence).replace('\\n','').replace('  ',' ')\n",
    "    print(count,':', sent_str)"
   ]
  },
  {
   "cell_type": "markdown",
   "metadata": {},
   "source": [
    "### Bonus: How many words in a sentence?\n",
    "\n",
    "When counting words, it's probably best to avoid whitespace or punctuation"
   ]
  },
  {
   "cell_type": "code",
   "execution_count": 19,
   "metadata": {},
   "outputs": [
    {
     "name": "stdout",
     "output_type": "stream",
     "text": [
      "15 \n",
      "\n",
      "Python Will Soon Support Switch Statements\n",
      "\n",
      "\n",
      "                112 Comments            \n",
      "\n",
      "by:\n",
      "Adam Zeloof\n",
      "\n",
      "\n",
      "\n",
      "April 2, 2021\n",
      "\n",
      "\n",
      "\n",
      "\n",
      "\n",
      "\n",
      "\n",
      "\n",
      "Rejoice!\n"
     ]
    }
   ],
   "source": [
    "def sentence_length (sent):\n",
    "    count = 0\n",
    "    for token in sent:\n",
    "        if not(token.is_space or token.is_punct):\n",
    "            count += 1\n",
    "    return count\n",
    "print(sentence_length(sentences[0]), sentences[0])"
   ]
  }
 ],
 "metadata": {
  "kernelspec": {
   "display_name": ".venv",
   "language": "python",
   "name": "python3"
  },
  "language_info": {
   "codemirror_mode": {
    "name": "ipython",
    "version": 3
   },
   "file_extension": ".py",
   "mimetype": "text/x-python",
   "name": "python",
   "nbconvert_exporter": "python",
   "pygments_lexer": "ipython3",
   "version": "3.12.5"
  }
 },
 "nbformat": 4,
 "nbformat_minor": 4
}
